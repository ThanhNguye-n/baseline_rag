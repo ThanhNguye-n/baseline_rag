{
 "cells": [
  {
   "cell_type": "code",
   "execution_count": 6,
   "metadata": {},
   "outputs": [
    {
     "name": "stderr",
     "output_type": "stream",
     "text": [
      "C:\\Users\\TNI5HC\\AppData\\Local\\Temp\\ipykernel_19300\\2836799602.py:2: DeprecationWarning: Importing display from IPython.core.display is deprecated since IPython 7.14, please import from IPython display\n",
      "  from IPython.core.display import display, HTML\n",
      "This function will be deprecated in a future release and `unstructured` will simply use the DEFAULT_MODEL from `unstructured_inference.model.base` to set default model name\n"
     ]
    }
   ],
   "source": [
    "from modules.ingestion.chunking import unstructed_io\n",
    "from IPython.core.display import display, HTML\n",
    "\n",
    "name_file_pdf='finance_41pages.pdf'\n",
    "\n",
    "elements = unstructed_io.chunking_to_get_table_image(name_file_pdf=name_file_pdf, file_type='pdf', return_html=True)"
   ]
  },
  {
   "cell_type": "code",
   "execution_count": 1,
   "metadata": {},
   "outputs": [
    {
     "ename": "NameError",
     "evalue": "name 'sample' is not defined",
     "output_type": "error",
     "traceback": [
      "\u001b[1;31m---------------------------------------------------------------------------\u001b[0m",
      "\u001b[1;31mNameError\u001b[0m                                 Traceback (most recent call last)",
      "Cell \u001b[1;32mIn[1], line 1\u001b[0m\n\u001b[1;32m----> 1\u001b[0m \u001b[43msample\u001b[49m[\u001b[38;5;241m-\u001b[39m\u001b[38;5;241m5\u001b[39m]\u001b[38;5;241m.\u001b[39mtext\n",
      "\u001b[1;31mNameError\u001b[0m: name 'sample' is not defined"
     ]
    }
   ],
   "source": [
    "sample[-5].text"
   ]
  },
  {
   "cell_type": "code",
   "execution_count": null,
   "metadata": {},
   "outputs": [],
   "source": [
    "HTML(sample[-5].metadata.text_as_html)"
   ]
  },
  {
   "cell_type": "code",
   "execution_count": 1,
   "metadata": {},
   "outputs": [],
   "source": [
    "from modules.ingestion.chunking import llmsherpa\n",
    "\n",
    "name_file_pdf='finance_41pages.pdf'\n",
    "\n",
    "elements = llmsherpa.chunking_pdf(name_file_pdf=name_file_pdf)"
   ]
  },
  {
   "cell_type": "code",
   "execution_count": 3,
   "metadata": {},
   "outputs": [],
   "source": [
    "sample = [i for i in elements if 'This activity may provide' in i]"
   ]
  },
  {
   "cell_type": "code",
   "execution_count": 6,
   "metadata": {},
   "outputs": [
    {
     "name": "stdout",
     "output_type": "stream",
     "text": [
      "D1.1, D1.2\n",
      "This activity may provide the basis of appropriate evidence for your S/NVQ portfolio.\n",
      "If you are intending to take this course of action, it might be better to write your answers on separate sheets of paper.\n",
      "Take a look at any cash flow forecast available for your organization or, if that is not possible, you might like to draw one up for a club or society in which you are involved, or even for yourself and your family.\n",
      "Examine the actual results over time against the forecast and prepare a report covering:\n",
      " the success of the forecasting, as compared with actual results;\n",
      " the reasons why there were differences in the actual figures from the forecast (you may need to talk to your manager and others to find out the reasons);\n",
      " what can be learnt from any differences between the forecasting and its results.\n",
      "Make any recommendations for future cash flow forecasting.\n",
      "A cash flow forecast is a useful piece of information for management and the above activity will help you appreciate how resources are managed day to day.\n",
      "You may have covered a period where actual results were similar to the cash flow forecast, or discovered that external events can upset plans.\n",
      "You may be faced, as a first line manager, with the need to implement reductions and other changes in operations.\n",
      "Management may have made decisions requiring these actions based on its cash flow forecasting.\n"
     ]
    }
   ],
   "source": [
    "print(sample[0])"
   ]
  }
 ],
 "metadata": {
  "kernelspec": {
   "display_name": "Python 3",
   "language": "python",
   "name": "python3"
  },
  "language_info": {
   "codemirror_mode": {
    "name": "ipython",
    "version": 3
   },
   "file_extension": ".py",
   "mimetype": "text/x-python",
   "name": "python",
   "nbconvert_exporter": "python",
   "pygments_lexer": "ipython3",
   "version": "3.10.13"
  }
 },
 "nbformat": 4,
 "nbformat_minor": 2
}
