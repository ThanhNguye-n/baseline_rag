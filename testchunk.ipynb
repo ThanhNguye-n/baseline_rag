{
 "cells": [
  {
   "cell_type": "code",
   "execution_count": 1,
   "metadata": {},
   "outputs": [
    {
     "name": "stderr",
     "output_type": "stream",
     "text": [
      "c:\\Users\\TNI5HC\\.conda\\envs\\multimodel_rag\\lib\\site-packages\\tqdm\\auto.py:21: TqdmWarning: IProgress not found. Please update jupyter and ipywidgets. See https://ipywidgets.readthedocs.io/en/stable/user_install.html\n",
      "  from .autonotebook import tqdm as notebook_tqdm\n",
      "This function will be deprecated in a future release and `unstructured` will simply use the DEFAULT_MODEL from `unstructured_inference.model.base` to set default model name\n",
      "Some weights of the model checkpoint at microsoft/table-transformer-structure-recognition were not used when initializing TableTransformerForObjectDetection: ['model.backbone.conv_encoder.model.layer2.0.downsample.1.num_batches_tracked', 'model.backbone.conv_encoder.model.layer3.0.downsample.1.num_batches_tracked', 'model.backbone.conv_encoder.model.layer4.0.downsample.1.num_batches_tracked']\n",
      "- This IS expected if you are initializing TableTransformerForObjectDetection from the checkpoint of a model trained on another task or with another architecture (e.g. initializing a BertForSequenceClassification model from a BertForPreTraining model).\n",
      "- This IS NOT expected if you are initializing TableTransformerForObjectDetection from the checkpoint of a model that you expect to be exactly identical (initializing a BertForSequenceClassification model from a BertForSequenceClassification model).\n"
     ]
    }
   ],
   "source": [
    "from modules.ingestion.chunking import llmsherpa, unstructed_io\n",
    "\n",
    "name_file_pdf = 'finance_41pages.pdf'\n",
    "\n",
    "text = llmsherpa.chunking_to_get_text(name_file_pdf, return_html=True)\n",
    "table = unstructed_io.chunking_to_get_table_image(name_file_pdf, file_type='pdf')"
   ]
  },
  {
   "cell_type": "code",
   "execution_count": 17,
   "metadata": {},
   "outputs": [
    {
     "data": {
      "text/plain": [
       "{'tag': 'table',\n",
       " 'level': -1,\n",
       " 'page_idx': 4,\n",
       " 'filename': 'finance_41pages.pdf',\n",
       " 'text': '<table><tr><td></td><td>—</td><td>ILM Super Series study links</td><td></td></tr><tr><td></td><td></td><td>Links to ILM Qualifications</td><td></td></tr><tr><td></td><td></td><td>Links to S/NVQs in Management</td><td>vi</td></tr><tr><td></td><td>wOobhwWwn</td><td>Workbook objectives Activity planner</td><td>vi vii</td></tr><tr><td>Session</td><td>A = —</td><td>The need for accounts</td><td></td></tr><tr><td></td><td></td><td>Introduction</td><td>—</td></tr><tr><td></td><td></td><td>How is used</td><td></td></tr><tr><td></td><td></td><td>money</td><td>AN</td></tr><tr><td></td><td></td><td>The use of accounting records</td><td></td></tr><tr><td></td><td></td><td>Accounting records and accounts</td><td></td></tr><tr><td></td><td>wOobhwWwn</td><td>Summary</td><td>On</td></tr><tr><td>Session</td><td>B</td><td>‘Finance in business</td><td></td></tr><tr><td></td><td>I</td><td>Introduction</td><td>19</td></tr><tr><td></td><td>2</td><td>How a business works</td><td>20</td></tr><tr><td></td><td>3</td><td>Cash flow</td><td>25</td></tr><tr><td></td><td>4</td><td>Summary</td><td>34</td></tr><tr><td></td><td></td><td></td><td></td></tr><tr><td></td><td>—</td><td>Introduction</td><td>35</td></tr><tr><td></td><td></td><td>Cash accounting versus profit accounting</td><td>36</td></tr><tr><td></td><td>Wn</td><td>The profit and loss account</td><td>37</td></tr><tr><td></td><td></td><td>The balance sheet</td><td>44</td></tr><tr><td></td><td>ub</td><td></td><td>57</td></tr><tr><td></td><td></td><td>Summary</td><td></td></tr><tr><td>Session</td><td>D</td><td>Financial indicators</td><td>59</td></tr><tr><td></td><td>|</td><td>Introduction</td><td>59</td></tr><tr><td></td><td>2</td><td>Using ratio analysis</td><td>60</td></tr></table>'}"
      ]
     },
     "execution_count": 17,
     "metadata": {},
     "output_type": "execute_result"
    }
   ],
   "source": [
    "table[0]"
   ]
  }
 ],
 "metadata": {
  "kernelspec": {
   "display_name": "Python 3",
   "language": "python",
   "name": "python3"
  },
  "language_info": {
   "codemirror_mode": {
    "name": "ipython",
    "version": 3
   },
   "file_extension": ".py",
   "mimetype": "text/x-python",
   "name": "python",
   "nbconvert_exporter": "python",
   "pygments_lexer": "ipython3",
   "version": "3.10.13"
  }
 },
 "nbformat": 4,
 "nbformat_minor": 2
}
