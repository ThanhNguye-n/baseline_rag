{
 "cells": [
  {
   "cell_type": "code",
   "execution_count": 1,
   "metadata": {},
   "outputs": [],
   "source": [
    "from modules.ingestion.chunking import llmsherpa\n",
    "from modules.ingestion.embedding import huggingface\n",
    "from IPython.core.display import HTML\n",
    "\n",
    "name_file_pdf = 'Car_Diagnostics_Hackathon.pdf'\n",
    "\n",
    "sherpa = llmsherpa.ChunkText() \n",
    "hf_embedder = huggingface.Embedder(model_url='sentence-transformers/all-MiniLM-L6-v2',\n",
    "                                   batch_size=16)"
   ]
  },
  {
   "cell_type": "code",
   "execution_count": null,
   "metadata": {},
   "outputs": [],
   "source": [
    "import"
   ]
  },
  {
   "cell_type": "code",
   "execution_count": null,
   "metadata": {},
   "outputs": [],
   "source": [
    "sherpa"
   ]
  }
 ],
 "metadata": {
  "kernelspec": {
   "display_name": "Python 3",
   "language": "python",
   "name": "python3"
  },
  "language_info": {
   "codemirror_mode": {
    "name": "ipython",
    "version": 3
   },
   "file_extension": ".py",
   "mimetype": "text/x-python",
   "name": "python",
   "nbconvert_exporter": "python",
   "pygments_lexer": "ipython3",
   "version": "3.10.13"
  }
 },
 "nbformat": 4,
 "nbformat_minor": 2
}
