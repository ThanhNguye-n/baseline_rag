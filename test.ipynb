{
 "cells": [
  {
   "cell_type": "code",
   "execution_count": 1,
   "metadata": {},
   "outputs": [
    {
     "name": "stderr",
     "output_type": "stream",
     "text": [
      "c:\\Users\\ASUS\\anaconda3\\envs\\multimodel_rag\\lib\\site-packages\\tqdm\\auto.py:21: TqdmWarning: IProgress not found. Please update jupyter and ipywidgets. See https://ipywidgets.readthedocs.io/en/stable/user_install.html\n",
      "  from .autonotebook import tqdm as notebook_tqdm\n"
     ]
    }
   ],
   "source": [
    "from modules.ingestion.chunking import llmsherpa\n",
    "from modules.ingestion.embedding import huggingface\n",
    "from IPython.core.display import HTML\n",
    "\n",
    "name_file_pdf = 'Car_Diagnostics_Hackathon.pdf'\n",
    "\n",
    "sherpa = llmsherpa.ChunkText() \n",
    "hf_embedder = huggingface.Embedder(model_url='sentence-transformers/all-MiniLM-L6-v2',\n",
    "                                   batch_size=8)"
   ]
  },
  {
   "cell_type": "code",
   "execution_count": 2,
   "metadata": {},
   "outputs": [
    {
     "data": {
      "text/plain": [
       "True"
      ]
     },
     "execution_count": 2,
     "metadata": {},
     "output_type": "execute_result"
    }
   ],
   "source": [
    "docs = sherpa.chunking(name_file_pdf, get_section_header=True, get_small_chunks=False)\n",
    "hf_embedder.embedding_documents(docs)"
   ]
  },
  {
   "cell_type": "code",
   "execution_count": 15,
   "metadata": {},
   "outputs": [],
   "source": [
    "import weaviate\n",
    "import json\n",
    "\n",
    "WEAVIATE_URL = \"https://multimodel-rag-7opyhshr.weaviate.network\"\n",
    "WEAVIATE_API_KEY = \"EBWshsUYap5giogjUaPyPbElUYW4pKf3o86O\"\n",
    "\n",
    "client = weaviate.connect_to_wcs(\n",
    "    cluster_url=WEAVIATE_URL,\n",
    "    auth_credentials=weaviate.auth.AuthApiKey(WEAVIATE_API_KEY),\n",
    "    skip_init_checks=True\n",
    ")\n"
   ]
  },
  {
   "cell_type": "code",
   "execution_count": 18,
   "metadata": {},
   "outputs": [
    {
     "ename": "SyntaxError",
     "evalue": "invalid syntax (1998187490.py, line 9)",
     "output_type": "error",
     "traceback": [
      "\u001b[1;36m  Cell \u001b[1;32mIn[18], line 9\u001b[1;36m\u001b[0m\n\u001b[1;33m    \"pq\": {\u001b[0m\n\u001b[1;37m        ^\u001b[0m\n\u001b[1;31mSyntaxError\u001b[0m\u001b[1;31m:\u001b[0m invalid syntax\n"
     ]
    }
   ],
   "source": [
    "class_name = 'test_rag'\n",
    "\n",
    "if client.schema.exists(class_name):\n",
    "   client.schema.delete_class(class_name)\n",
    "\n",
    "class_obj = {\n",
    "    \"class\": class_name,\n",
    "    \"vectorizer\": \"none\"\n",
    "    \"pq\": {\n",
    "        \"enabled\": True,  # Enable PQ\n",
    "        \"trainingLimit\": 50000  # Set the threshold to begin training\n",
    "    }\n",
    "}\n",
    "\n",
    "client.schema.create_class(class_obj)"
   ]
  },
  {
   "cell_type": "code",
   "execution_count": 10,
   "metadata": {},
   "outputs": [],
   "source": [
    "client.batch.configure(batch_size=50)  # Configure batch\n",
    "\n",
    "with client.batch as batch:  # Initialize a batch process\n",
    "\n",
    "    for i, doc in enumerate(docs):  # Batch import data\n",
    "\n",
    "        properties = {\n",
    "            \"tag\": doc[\"tag\"],\n",
    "            \"level\": doc[\"page_idx\"],\n",
    "            \"file_name\": doc[\"filename\"],\n",
    "            \"text\": doc[\"text\"],\n",
    "            \"hmtl_text\": doc[\"html_text\"]\n",
    "        }\n",
    "        batch.add_data_object(\n",
    "            data_object=properties,\n",
    "            class_name=\"test_rag\",\n",
    "            vector=doc['vector']\n",
    "        )"
   ]
  }
 ],
 "metadata": {
  "kernelspec": {
   "display_name": "Python 3",
   "language": "python",
   "name": "python3"
  },
  "language_info": {
   "codemirror_mode": {
    "name": "ipython",
    "version": 3
   },
   "file_extension": ".py",
   "mimetype": "text/x-python",
   "name": "python",
   "nbconvert_exporter": "python",
   "pygments_lexer": "ipython3",
   "version": "3.10.13"
  }
 },
 "nbformat": 4,
 "nbformat_minor": 2
}
